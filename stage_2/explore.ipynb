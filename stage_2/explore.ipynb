{
 "cells": [
  {
   "cell_type": "code",
   "execution_count": null,
   "metadata": {},
   "outputs": [],
   "source": [
    "import duckdb\n",
    "import pygwalker\n",
    "import pandas as pd\n",
    "import lonboard\n",
    "from ipywidgets import widgets, IntRangeSlider, jsdlink\n",
    "\n",
    "from load import DATABASE_PATH\n",
    "\n",
    "pd.set_option(\"display.max_columns\", 50)"
   ]
  },
  {
   "cell_type": "markdown",
   "metadata": {},
   "source": [
    "## Explore source data"
   ]
  },
  {
   "cell_type": "code",
   "execution_count": null,
   "metadata": {},
   "outputs": [],
   "source": [
    "with duckdb.connect(str(DATABASE_PATH)) as connection:\n",
    "    tables = connection.sql(\"SHOW ALL TABLES\").df()\n",
    "tables"
   ]
  },
  {
   "cell_type": "markdown",
   "metadata": {},
   "source": [
    "Multiple instances of `pygwalker` may slow down the Jupyter notebook"
   ]
  },
  {
   "cell_type": "code",
   "execution_count": null,
   "metadata": {},
   "outputs": [],
   "source": [
    "# conn = pygwalker.data_parsers.database_parser.Connector(\n",
    "#     f\"duckdb:///{DATABASE_PATH}\", \"SELECT * FROM farmers_markets\"\n",
    "# )\n",
    "# pygwalker.walk(conn, kernel_computation=True)"
   ]
  },
  {
   "cell_type": "code",
   "execution_count": null,
   "metadata": {},
   "outputs": [],
   "source": [
    "# conn = pygwalker.data_parsers.database_parser.Connector(\n",
    "#     f\"duckdb:///{DATABASE_PATH}\", \"SELECT * FROM garden_block\"\n",
    "# )\n",
    "# pygwalker.walk(conn, kernel_computation=True)"
   ]
  },
  {
   "cell_type": "code",
   "execution_count": null,
   "metadata": {},
   "outputs": [],
   "source": [
    "# conn = pygwalker.data_parsers.database_parser.Connector(\n",
    "#     f\"duckdb:///{DATABASE_PATH}\", \"SELECT * FROM garden_info\"\n",
    "# )\n",
    "# pygwalker.walk(conn, kernel_computation=True)"
   ]
  },
  {
   "cell_type": "code",
   "execution_count": null,
   "metadata": {},
   "outputs": [],
   "source": [
    "# conn = pygwalker.data_parsers.database_parser.Connector(\n",
    "#     f\"duckdb:///{DATABASE_PATH}\", \"SELECT * FROM garden_info\"\n",
    "# )\n",
    "# pygwalker.walk(conn, kernel_computation=True)"
   ]
  },
  {
   "cell_type": "code",
   "execution_count": null,
   "metadata": {},
   "outputs": [],
   "source": [
    "# common_values_parksid = len(set(garden_info.parksid).intersection(garden_block_lot.parksid))\n",
    "# print(\n",
    "#   f\"\"\"\n",
    "#     Unique values in garden_info:{len(garden_info.parksid.drop_duplicates())}\n",
    "#     Unique values in garden_block_lot:{len(garden_block_lot.parksid.drop_duplicates())}\n",
    "#     Comon values:{common_values_parksid}\n",
    "#   \"\"\"\n",
    "# )"
   ]
  },
  {
   "cell_type": "code",
   "execution_count": null,
   "metadata": {},
   "outputs": [],
   "source": [
    "with duckdb.connect(str(DATABASE_PATH)) as connection:\n",
    "    farms_description = connection.sql(\"DESCRIBE farms\").df()\n",
    "farms_description"
   ]
  },
  {
   "cell_type": "code",
   "execution_count": null,
   "metadata": {},
   "outputs": [],
   "source": [
    "with duckdb.connect(str(DATABASE_PATH)) as connection:\n",
    "    farms = connection.sql(\"SELECT DISTINCT * FROM farms\").df()\n",
    "farms"
   ]
  },
  {
   "cell_type": "code",
   "execution_count": null,
   "metadata": {},
   "outputs": [],
   "source": [
    "farms.borough.value_counts(dropna=False)"
   ]
  },
  {
   "cell_type": "code",
   "execution_count": null,
   "metadata": {},
   "outputs": [],
   "source": []
  },
  {
   "cell_type": "code",
   "execution_count": null,
   "metadata": {},
   "outputs": [],
   "source": [
    "with duckdb.connect(str(DATABASE_PATH)) as connection:\n",
    "    markets_description = connection.sql(\"DESCRIBE markets\").df()\n",
    "markets_description"
   ]
  },
  {
   "cell_type": "code",
   "execution_count": null,
   "metadata": {},
   "outputs": [],
   "source": [
    "with duckdb.connect(str(DATABASE_PATH)) as connection:\n",
    "    markets = connection.sql(\"SELECT DISTINCT * FROM markets\").df()\n",
    "markets"
   ]
  },
  {
   "cell_type": "code",
   "execution_count": null,
   "metadata": {},
   "outputs": [],
   "source": [
    "markets.borough.value_counts(dropna=False)"
   ]
  },
  {
   "cell_type": "markdown",
   "metadata": {},
   "source": [
    "## Try transforming data"
   ]
  },
  {
   "cell_type": "code",
   "execution_count": null,
   "metadata": {},
   "outputs": [],
   "source": [
    "far_garden = \"RGT001\"\n",
    "mid_garden = \"R146-GT001\"\n",
    "near_garden = \"R109-GT001\"\n",
    "weird_garden = \"RGT009\"\n",
    "si_market = \"Heritage Farm Stand (Gazebo Road)\""
   ]
  },
  {
   "cell_type": "code",
   "execution_count": null,
   "metadata": {},
   "outputs": [],
   "source": [
    "special_farms = farms[farms[\"parksid\"].isin([near_garden, mid_garden, far_garden, weird_garden])]\n",
    "special_farms"
   ]
  },
  {
   "cell_type": "code",
   "execution_count": null,
   "metadata": {},
   "outputs": [],
   "source": [
    "special_markets = markets[markets[\"name\"].isin([si_market])]\n",
    "special_markets"
   ]
  },
  {
   "cell_type": "code",
   "execution_count": null,
   "metadata": {},
   "outputs": [],
   "source": []
  },
  {
   "cell_type": "code",
   "execution_count": null,
   "metadata": {},
   "outputs": [],
   "source": [
    "with duckdb.connect(str(DATABASE_PATH)) as connection:\n",
    "    duckdb.load_extension(\"spatial\", connection=connection)\n",
    "    layer_gardens = lonboard.ScatterplotLayer.from_duckdb(\n",
    "        \"SELECT parksid, gardenname, point_geometry_wgs84 FROM farms\",\n",
    "        con=connection,\n",
    "        radius_min_pixels=5,\n",
    "        radius_max_pixels=10,\n",
    "        get_fill_color=[100, 150, 100],\n",
    "    )\n",
    "    layer_markets = lonboard.ScatterplotLayer.from_duckdb(\n",
    "        \"SELECT name, point_geometry_wgs84 FROM markets\",\n",
    "        con=connection,\n",
    "        radius_min_pixels=5,\n",
    "        radius_max_pixels=10,\n",
    "        get_fill_color=[100, 100, 100],\n",
    "    )"
   ]
  },
  {
   "cell_type": "code",
   "execution_count": null,
   "metadata": {},
   "outputs": [],
   "source": [
    "with duckdb.connect(str(DATABASE_PATH)) as connection:\n",
    "    farm_to_market_distance_ft = connection.sql(\n",
    "        \"SELECT distance_ft FROM farm_to_market\"\n",
    "    ).df()[\"distance_ft\"]\n",
    "max_filter_range = max(farm_to_market_distance_ft) / 10"
   ]
  },
  {
   "cell_type": "code",
   "execution_count": null,
   "metadata": {},
   "outputs": [],
   "source": [
    "extension = lonboard.layer_extension.DataFilterExtension()\n",
    "\n",
    "with duckdb.connect(str(DATABASE_PATH)) as connection:\n",
    "    duckdb.load_extension(\"spatial\", connection=connection)\n",
    "    layer_garden_to_markets = lonboard.PathLayer.from_duckdb(\n",
    "        \"SELECT gardenname, market_name, distance_ft, line_geometry_wgs84 FROM farm_to_market\",\n",
    "        con=connection,\n",
    "        crs=\"EPSG:4326\",\n",
    "        get_color=[150, 120, 120],\n",
    "        opacity=0.3,\n",
    "        width_min_pixels=2,\n",
    "        extensions=[extension],\n",
    "        get_filter_value=farm_to_market_distance_ft,\n",
    "        filter_range=[0, max_filter_range],\n",
    "    )"
   ]
  },
  {
   "cell_type": "code",
   "execution_count": null,
   "metadata": {},
   "outputs": [],
   "source": [
    "slider = IntRangeSlider(\n",
    "    value=(0, 10000),\n",
    "    min=0,\n",
    "    max=max_filter_range,\n",
    "    step=1,\n",
    "    description=\"farm_to_market_distance_ft: \",\n",
    "    style={\"description_width\": \"initial\"},\n",
    ")\n",
    "\n",
    "jsdlink((slider, \"value\"), (layer_garden_to_markets, \"filter_range\"))\n",
    "slider.layout = widgets.Layout(width=\"800px\")"
   ]
  },
  {
   "cell_type": "code",
   "execution_count": null,
   "metadata": {},
   "outputs": [],
   "source": [
    "m = lonboard.Map(\n",
    "    [\n",
    "        layer_garden_to_markets,\n",
    "        layer_gardens,\n",
    "        layer_markets,\n",
    "    ]\n",
    ")\n",
    "m"
   ]
  },
  {
   "cell_type": "code",
   "execution_count": null,
   "metadata": {},
   "outputs": [],
   "source": [
    "slider"
   ]
  },
  {
   "cell_type": "code",
   "execution_count": null,
   "metadata": {},
   "outputs": [],
   "source": []
  }
 ],
 "metadata": {
  "kernelspec": {
   "display_name": "duckdb-dbt",
   "language": "python",
   "name": "python3"
  },
  "language_info": {
   "codemirror_mode": {
    "name": "ipython",
    "version": 3
   },
   "file_extension": ".py",
   "mimetype": "text/x-python",
   "name": "python",
   "nbconvert_exporter": "python",
   "pygments_lexer": "ipython3",
   "version": "3.12.4"
  }
 },
 "nbformat": 4,
 "nbformat_minor": 2
}
