{
 "cells": [
  {
   "cell_type": "code",
   "execution_count": null,
   "id": "98f5d7eb",
   "metadata": {},
   "outputs": [],
   "source": [
    "# Add the project root directory to sys.path to enable imports from the project\n",
    "import sys\n",
    "from pathlib import Path\n",
    "\n",
    "project_root = Path().resolve().parent.parent\n",
    "if str(project_root) not in sys.path:\n",
    "    sys.path.insert(0, str(project_root))"
   ]
  },
  {
   "cell_type": "code",
   "execution_count": null,
   "id": "a0a1755d",
   "metadata": {},
   "outputs": [],
   "source": [
    "import duckdb\n",
    "from constants.db import STAGE_3_DB"
   ]
  },
  {
   "cell_type": "code",
   "execution_count": null,
   "id": "061590bf",
   "metadata": {},
   "outputs": [],
   "source": [
    "with duckdb.connect(str(STAGE_3_DB)) as connection:\n",
    "    connection.sql(\"SHOW ALL TABLES\").show()"
   ]
  },
  {
   "cell_type": "code",
   "execution_count": null,
   "id": "f0f4d25f",
   "metadata": {},
   "outputs": [],
   "source": []
  }
 ],
 "metadata": {
  "kernelspec": {
   "display_name": ".venv",
   "language": "python",
   "name": "python3"
  },
  "language_info": {
   "codemirror_mode": {
    "name": "ipython",
    "version": 3
   },
   "file_extension": ".py",
   "mimetype": "text/x-python",
   "name": "python",
   "nbconvert_exporter": "python",
   "pygments_lexer": "ipython3",
   "version": "3.12.4"
  }
 },
 "nbformat": 4,
 "nbformat_minor": 5
}
